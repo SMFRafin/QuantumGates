{
 "cells": [
  {
   "cell_type": "markdown",
   "metadata": {},
   "source": [
    "### Y Gate (Pauli-Y Gate)\n",
    "The Y gate is one of the fundamental quantum gates in quantum computing. It is also known as the Pauli-Y gate. This gate performs a bit-flip and a phase-flip on the state of a qubit. For example, if the qubit is in state |0⟩, it flips it to i|1⟩, and if it is in state |1⟩, it flips it to -i|0⟩.\n",
    "Mathematically, the Y gate is represented by the following matrix:\n",
    "$$ \n",
    "Y = \\begin{pmatrix}\n",
    "0 & -i \\\\\n",
    "i & 0\n",
    "\\end{pmatrix}\n",
    "$$\n",
    "#### Properties of the Y Gate\n",
    "1. **Involutory:** Applying the Y gate twice returns the qubit to its original state. Mathematically, $Y^2 = I$, where $I$ is the identity matrix.  ,\n",
    "2. **Hermitian:** The Y gate is its own inverse and its own conjugate transpose, i.e., $Y = Y^\\dagger$.\n",
    "3. **Determinant:** The determinant of the Y gate is -1.\n",
    "#### Quantum Circuit Representation \n",
    "In a quantum circuit, the Y gate is represented as follows:\n",
    "```\n",
    "──Y──\n",
    "```  \n",
    "\n",
    "#### Example Usage\n",
    "\n",
    "Let's see an example of how to use the X gate in a quantum circuit using the Cirq library:\n"
   ]
  },
  {
   "cell_type": "code",
   "execution_count": 6,
   "metadata": {},
   "outputs": [
    {
     "name": "stdout",
     "output_type": "stream",
     "text": [
      "Initial Sate: \n",
      "[1.+0.j]\n",
      "Circuit: \n",
      "(0, 0): ───Y───\n",
      "\n",
      "Final State: \n",
      "[0.+0.j 0.+1.j]\n"
     ]
    }
   ],
   "source": [
    "#Import necessary libraries\n",
    "import cirq\n",
    "\n",
    "#Step 1: Create a qubit\n",
    "qubit=cirq.GridQubit(0,0)\n",
    "\n",
    "#Step 1.1 Display the initial state of the qubit\n",
    "print('Initial Sate: ')\n",
    "simulator=cirq.Simulator()\n",
    "result=simulator.simulate(cirq.Circuit())\n",
    "print(result.final_state_vector)\n",
    "\n",
    "#Step 2: Create a circuit\n",
    "circuit=cirq.Circuit()\n",
    "\n",
    "#Step 3: Add Y gate to the circuit\n",
    "circuit.append(cirq.Y(qubit))\n",
    "\n",
    "#Step 4: Display the circuit\n",
    "print('Circuit: ')\n",
    "print(circuit)\n",
    "\n",
    "#Step 5: Simulate the circuit\n",
    "print('\\nFinal State: ')\n",
    "result=simulator.simulate(circuit)\n",
    "print(result.final_state_vector)\n"
   ]
  },
  {
   "cell_type": "markdown",
   "metadata": {},
   "source": [
    "### Result Explanation\n",
    "\n",
    "1. **Initial State**  \n",
    "   The qubit starts in \\(|0⟩\\), represented by the state vector:  \n",
    "   \\[\n",
    "   [1.+0.j]\n",
    "   \\]  \n",
    "   This shows a 100% probability of measuring \\(|0⟩\\).\n",
    "\n",
    "2. **Effect of the Y Gate**  \n",
    "   The Y gate performs a **bit-flip** and a **phase-flip**, transforming \\(|0⟩\\) into \\(i|1⟩\\).  \n",
    "\n",
    "3. **Final State**  \n",
    "   After applying the Y gate, the state vector becomes:  \n",
    "   \\[\n",
    "   [0.+0.j, 0.+1.j]\n",
    "   \\]  \n",
    "   - The qubit is now in \\(i|1⟩\\), with a 100% probability of measuring \\(|1⟩\\).\n",
    "\n",
    "4. **Conclusion**  \n",
    "   The Y gate's combined bit-flip and phase-flip behavior is validated by the results.\n"
   ]
  }
 ],
 "metadata": {
  "kernelspec": {
   "display_name": "CirqVenv",
   "language": "python",
   "name": "python3"
  },
  "language_info": {
   "codemirror_mode": {
    "name": "ipython",
    "version": 3
   },
   "file_extension": ".py",
   "mimetype": "text/x-python",
   "name": "python",
   "nbconvert_exporter": "python",
   "pygments_lexer": "ipython3",
   "version": "3.10.12"
  }
 },
 "nbformat": 4,
 "nbformat_minor": 2
}
