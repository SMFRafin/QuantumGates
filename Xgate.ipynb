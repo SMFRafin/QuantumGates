{
 "cells": [
  {
   "cell_type": "markdown",
   "metadata": {},
   "source": [
    "### X Gate (Pauli-X Gate or NOT Gate)\n",
    "\n",
    "The X gate is one of the fundamental quantum gates in quantum computing. It is also known as the NOT gate or Pauli-X gate. This gate flips the state of a qubit. For example, if the qubit is in state |0⟩, it flips it to |1⟩, and vice versa.\n",
    "\n",
    "Mathematically, the X gate is represented by the following matrix:\n",
    "\n",
    "$$\n",
    "X = \\begin{pmatrix}\n",
    "  0 & 1 \\\\\n",
    "  1 & 0\n",
    "\\end{pmatrix}\n",
    "$$\n",
    "\n",
    "#### Properties of the X Gate\n",
    "\n",
    "1. **Involutory:** Applying the X gate twice returns the qubit to its original state. Mathematically, $X^2 = I$, where $I$ is the identity matrix.\n",
    "2. **Hermitian:** The X gate is its own inverse and its own conjugate transpose, i.e., $X = X^\\dagger$.\n",
    "3. **Determinant:** The determinant of the X gate is -1.\n",
    "\n",
    "#### Quantum Circuit Representation\n",
    "\n",
    "In a quantum circuit, the X gate is represented as follows:\n",
    "\n",
    "```\n",
    "  ──X──\n",
    "```\n",
    "\n",
    "#### Example Usage\n",
    "\n",
    "Let's see an example of how to use the X gate in a quantum circuit using the Cirq library:\n",
    "\n",
    "\n"
   ]
  },
  {
   "cell_type": "code",
   "execution_count": 13,
   "metadata": {},
   "outputs": [
    {
     "name": "stdout",
     "output_type": "stream",
     "text": [
      "Initial State:\n",
      "[1.+0.j]\n",
      "Circuit:\n",
      "(0, 0): ───X───\n",
      "\n",
      "Final State:\n",
      "[0.+0.j 1.+0.j]\n"
     ]
    }
   ],
   "source": [
    "#Import the necessary libraries\n",
    "import cirq \n",
    "\n",
    "#Step 1: Create a qubit\n",
    "qubit = cirq.GridQubit(0, 0)\n",
    "\n",
    "#Step 1.1: Display the initial state of the qubit\n",
    "print(\"Initial State:\")\n",
    "simulator = cirq.Simulator()\n",
    "result = simulator.simulate(cirq.Circuit())\n",
    "print(result.final_state_vector)\n",
    "\n",
    "\n",
    "\n",
    "#Step 2: Create a circuit\n",
    "circuit = cirq.Circuit()\n",
    "\n",
    "#Step 3: Add X gate to the circuit\n",
    "circuit.append(cirq.X(qubit))\n",
    "\n",
    "#Step 4: Display the circuit\n",
    "print(\"Circuit:\")\n",
    "print(circuit)\n",
    "\n",
    "#Step 5: Simulate the circuit\n",
    "simulator = cirq.Simulator()\n",
    "result = simulator.simulate(circuit)\n",
    "\n",
    "print(\"\\nFinal State:\")\n",
    "print(result.final_state_vector)\n"
   ]
  },
  {
   "cell_type": "markdown",
   "metadata": {},
   "source": [
    "### Result explanation: \n",
    "The initial state of the qubit is |0>. After applying the X gate, the qubit state is flipped to |1>. The final state vector [0.+0.j, 1.+0.j] represents this change."
   ]
  }
 ],
 "metadata": {
  "kernelspec": {
   "display_name": "CirqVenv",
   "language": "python",
   "name": "python3"
  },
  "language_info": {
   "name": "python",
   "version": "3.10.12"
  }
 },
 "nbformat": 4,
 "nbformat_minor": 2
}
